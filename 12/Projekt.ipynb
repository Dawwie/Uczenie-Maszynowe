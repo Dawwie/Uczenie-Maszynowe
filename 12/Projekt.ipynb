{
 "cells": [
  {
   "cell_type": "markdown",
   "id": "complicated-neutral",
   "metadata": {},
   "source": [
    "**12. Projekt**\n",
    "================="
   ]
  },
  {
   "cell_type": "markdown",
   "id": "quantitative-transport",
   "metadata": {},
   "source": [
    "## **1. Cel projektu**"
   ]
  },
  {
   "cell_type": "markdown",
   "id": "psychological-terrorism",
   "metadata": {},
   "source": [
    "#### Celem projektu jest przewidzenie cen mieszkań w zależności od różnych cech, tj.: **cena**, **powierzchnia**, **liczba pokoi**, **piętro**, **typ zabudowy**, **forma kuchni**, obecność **miejsca parkingowego** czy **przystanku komunikacji miejskiej**. Do osiągnięcia założeń zostaną wykorzystane, a następnie porównane różne modele uczenia maszynowego\n",
    "* Regresja liniowa  \n",
    "* SGD  \n",
    "* Sieć neuronowa (Keras)"
   ]
  },
  {
   "cell_type": "markdown",
   "id": "92c19f55-166c-4cf2-908d-882e8fd85741",
   "metadata": {},
   "source": [
    "#### Dane _flats.tsv_ wykorzstane do uczenia pochodzą z zajęć numer 7."
   ]
  },
  {
   "cell_type": "markdown",
   "id": "continent-scenario",
   "metadata": {},
   "source": [
    "## **2. Importowanie potrzebnych bibliotek**"
   ]
  },
  {
   "cell_type": "code",
   "execution_count": 236,
   "id": "royal-glass",
   "metadata": {},
   "outputs": [],
   "source": [
    "import numpy as np\n",
    "import pandas as pd\n",
    "from sklearn.preprocessing import MinMaxScaler\n",
    "from sklearn.linear_model import LinearRegression, SGDRegressor\n",
    "from sklearn.model_selection import train_test_split\n",
    "from sklearn.metrics import mean_squared_error as rmse\n",
    "from tensorflow import keras"
   ]
  },
  {
   "cell_type": "markdown",
   "id": "4cc20d73-50c7-4ef9-a962-5586ff813e9a",
   "metadata": {},
   "source": [
    "## **3. Wczytanie danych**"
   ]
  },
  {
   "cell_type": "code",
   "execution_count": 237,
   "id": "moderate-falls",
   "metadata": {},
   "outputs": [
    {
     "data": {
      "text/html": [
       "<div>\n",
       "<style scoped>\n",
       "    .dataframe tbody tr th:only-of-type {\n",
       "        vertical-align: middle;\n",
       "    }\n",
       "\n",
       "    .dataframe tbody tr th {\n",
       "        vertical-align: top;\n",
       "    }\n",
       "\n",
       "    .dataframe thead th {\n",
       "        text-align: right;\n",
       "    }\n",
       "</style>\n",
       "<table border=\"1\" class=\"dataframe\">\n",
       "  <thead>\n",
       "    <tr style=\"text-align: right;\">\n",
       "      <th></th>\n",
       "      <th>cena</th>\n",
       "      <th>Powierzchnia w m2</th>\n",
       "      <th>Liczba pokoi</th>\n",
       "      <th>Miejsce parkingowe</th>\n",
       "      <th>Piętro</th>\n",
       "      <th>Typ zabudowy</th>\n",
       "      <th>Forma kuchni</th>\n",
       "      <th>opis</th>\n",
       "    </tr>\n",
       "  </thead>\n",
       "  <tbody>\n",
       "    <tr>\n",
       "      <th>0</th>\n",
       "      <td>290386</td>\n",
       "      <td>46</td>\n",
       "      <td>2</td>\n",
       "      <td>brak miejsca parkingowego</td>\n",
       "      <td>parter</td>\n",
       "      <td>apartamentowiec</td>\n",
       "      <td>w aneksie</td>\n",
       "      <td>Polecam mieszkanie 2 pokojowe o metrażu 46,68 ...</td>\n",
       "    </tr>\n",
       "    <tr>\n",
       "      <th>1</th>\n",
       "      <td>450000</td>\n",
       "      <td>59</td>\n",
       "      <td>2</td>\n",
       "      <td>brak miejsca parkingowego</td>\n",
       "      <td>2</td>\n",
       "      <td>kamienica</td>\n",
       "      <td>w aneksie</td>\n",
       "      <td>Ekskluzywna oferta - tylko u nas! Projekt arch...</td>\n",
       "    </tr>\n",
       "    <tr>\n",
       "      <th>2</th>\n",
       "      <td>375000</td>\n",
       "      <td>79</td>\n",
       "      <td>3</td>\n",
       "      <td>brak miejsca parkingowego</td>\n",
       "      <td>5</td>\n",
       "      <td>blok</td>\n",
       "      <td>NaN</td>\n",
       "      <td>Polecam do kupna przestronne mieszkanie trzypo...</td>\n",
       "    </tr>\n",
       "    <tr>\n",
       "      <th>3</th>\n",
       "      <td>400000</td>\n",
       "      <td>63</td>\n",
       "      <td>3</td>\n",
       "      <td>w garażu</td>\n",
       "      <td>2</td>\n",
       "      <td>blok</td>\n",
       "      <td>odzielna</td>\n",
       "      <td>Dla rodziny albo pod wynajem. Świetna lokaliza...</td>\n",
       "    </tr>\n",
       "    <tr>\n",
       "      <th>4</th>\n",
       "      <td>389285</td>\n",
       "      <td>59</td>\n",
       "      <td>3</td>\n",
       "      <td>brak miejsca parkingowego</td>\n",
       "      <td>12</td>\n",
       "      <td>blok</td>\n",
       "      <td>w aneksie</td>\n",
       "      <td>NaN</td>\n",
       "    </tr>\n",
       "    <tr>\n",
       "      <th>5</th>\n",
       "      <td>539000</td>\n",
       "      <td>90</td>\n",
       "      <td>4</td>\n",
       "      <td>przynależne na ulicy</td>\n",
       "      <td>1</td>\n",
       "      <td>dom wielorodzinny/szeregowiec</td>\n",
       "      <td>w aneksie</td>\n",
       "      <td>Drodzy PaństwoZapraszam do zapoznania się z pr...</td>\n",
       "    </tr>\n",
       "    <tr>\n",
       "      <th>6</th>\n",
       "      <td>380931</td>\n",
       "      <td>66</td>\n",
       "      <td>3</td>\n",
       "      <td>w garażu</td>\n",
       "      <td>3</td>\n",
       "      <td>blok</td>\n",
       "      <td>NaN</td>\n",
       "      <td>Rozkładowe, przestronne mieszkanie na trzecim ...</td>\n",
       "    </tr>\n",
       "    <tr>\n",
       "      <th>7</th>\n",
       "      <td>225000</td>\n",
       "      <td>32</td>\n",
       "      <td>1</td>\n",
       "      <td>brak miejsca parkingowego</td>\n",
       "      <td>2</td>\n",
       "      <td>blok</td>\n",
       "      <td>NaN</td>\n",
       "      <td>Zapraszam do zapoznania się z ofertą sprzedaży...</td>\n",
       "    </tr>\n",
       "    <tr>\n",
       "      <th>8</th>\n",
       "      <td>235582</td>\n",
       "      <td>38</td>\n",
       "      <td>2</td>\n",
       "      <td>przynależne na ulicy</td>\n",
       "      <td>3</td>\n",
       "      <td>blok</td>\n",
       "      <td>w aneksie</td>\n",
       "      <td>NaN</td>\n",
       "    </tr>\n",
       "    <tr>\n",
       "      <th>9</th>\n",
       "      <td>664443</td>\n",
       "      <td>68</td>\n",
       "      <td>3</td>\n",
       "      <td>brak miejsca parkingowego</td>\n",
       "      <td>3</td>\n",
       "      <td>apartamentowiec</td>\n",
       "      <td>w aneksie</td>\n",
       "      <td>Zapraszamy do zapoznania się z inwestycją firm...</td>\n",
       "    </tr>\n",
       "  </tbody>\n",
       "</table>\n",
       "</div>"
      ],
      "text/plain": [
       "     cena  Powierzchnia w m2  Liczba pokoi         Miejsce parkingowe  Piętro  \\\n",
       "0  290386                 46             2  brak miejsca parkingowego  parter   \n",
       "1  450000                 59             2  brak miejsca parkingowego       2   \n",
       "2  375000                 79             3  brak miejsca parkingowego       5   \n",
       "3  400000                 63             3                   w garażu       2   \n",
       "4  389285                 59             3  brak miejsca parkingowego      12   \n",
       "5  539000                 90             4       przynależne na ulicy       1   \n",
       "6  380931                 66             3                   w garażu       3   \n",
       "7  225000                 32             1  brak miejsca parkingowego       2   \n",
       "8  235582                 38             2       przynależne na ulicy       3   \n",
       "9  664443                 68             3  brak miejsca parkingowego       3   \n",
       "\n",
       "                    Typ zabudowy Forma kuchni  \\\n",
       "0                apartamentowiec    w aneksie   \n",
       "1                      kamienica    w aneksie   \n",
       "2                           blok          NaN   \n",
       "3                           blok     odzielna   \n",
       "4                           blok    w aneksie   \n",
       "5  dom wielorodzinny/szeregowiec    w aneksie   \n",
       "6                           blok          NaN   \n",
       "7                           blok          NaN   \n",
       "8                           blok    w aneksie   \n",
       "9                apartamentowiec    w aneksie   \n",
       "\n",
       "                                                opis  \n",
       "0  Polecam mieszkanie 2 pokojowe o metrażu 46,68 ...  \n",
       "1  Ekskluzywna oferta - tylko u nas! Projekt arch...  \n",
       "2  Polecam do kupna przestronne mieszkanie trzypo...  \n",
       "3  Dla rodziny albo pod wynajem. Świetna lokaliza...  \n",
       "4                                                NaN  \n",
       "5  Drodzy PaństwoZapraszam do zapoznania się z pr...  \n",
       "6  Rozkładowe, przestronne mieszkanie na trzecim ...  \n",
       "7  Zapraszam do zapoznania się z ofertą sprzedaży...  \n",
       "8                                                NaN  \n",
       "9  Zapraszamy do zapoznania się z inwestycją firm...  "
      ]
     },
     "execution_count": 237,
     "metadata": {},
     "output_type": "execute_result"
    }
   ],
   "source": [
    "COLS = ['cena', 'Powierzchnia w m2', 'Liczba pokoi', 'Piętro' ,'Typ zabudowy', 'opis', 'Forma kuchni', 'Miejsce parkingowe']\n",
    "\n",
    "flats = pd.read_csv('flats.tsv', header=0, sep='\\t', skipinitialspace=True, usecols=COLS)\n",
    "flats.head(10)"
   ]
  },
  {
   "cell_type": "code",
   "execution_count": 238,
   "id": "4e366d62-e9ca-49d9-9aa1-de525aba7bdd",
   "metadata": {},
   "outputs": [
    {
     "data": {
      "text/html": [
       "<div>\n",
       "<style scoped>\n",
       "    .dataframe tbody tr th:only-of-type {\n",
       "        vertical-align: middle;\n",
       "    }\n",
       "\n",
       "    .dataframe tbody tr th {\n",
       "        vertical-align: top;\n",
       "    }\n",
       "\n",
       "    .dataframe thead th {\n",
       "        text-align: right;\n",
       "    }\n",
       "</style>\n",
       "<table border=\"1\" class=\"dataframe\">\n",
       "  <thead>\n",
       "    <tr style=\"text-align: right;\">\n",
       "      <th></th>\n",
       "      <th>cena</th>\n",
       "      <th>Powierzchnia w m2</th>\n",
       "      <th>Liczba pokoi</th>\n",
       "    </tr>\n",
       "  </thead>\n",
       "  <tbody>\n",
       "    <tr>\n",
       "      <th>count</th>\n",
       "      <td>4.938000e+03</td>\n",
       "      <td>4938.000000</td>\n",
       "      <td>4938.000000</td>\n",
       "    </tr>\n",
       "    <tr>\n",
       "      <th>mean</th>\n",
       "      <td>4.198150e+05</td>\n",
       "      <td>76.422033</td>\n",
       "      <td>2.844674</td>\n",
       "    </tr>\n",
       "    <tr>\n",
       "      <th>std</th>\n",
       "      <td>3.244901e+05</td>\n",
       "      <td>180.583310</td>\n",
       "      <td>1.247389</td>\n",
       "    </tr>\n",
       "    <tr>\n",
       "      <th>min</th>\n",
       "      <td>0.000000e+00</td>\n",
       "      <td>15.000000</td>\n",
       "      <td>1.000000</td>\n",
       "    </tr>\n",
       "    <tr>\n",
       "      <th>25%</th>\n",
       "      <td>2.824200e+05</td>\n",
       "      <td>45.000000</td>\n",
       "      <td>2.000000</td>\n",
       "    </tr>\n",
       "    <tr>\n",
       "      <th>50%</th>\n",
       "      <td>3.417040e+05</td>\n",
       "      <td>54.000000</td>\n",
       "      <td>3.000000</td>\n",
       "    </tr>\n",
       "    <tr>\n",
       "      <th>75%</th>\n",
       "      <td>4.500000e+05</td>\n",
       "      <td>72.000000</td>\n",
       "      <td>3.000000</td>\n",
       "    </tr>\n",
       "    <tr>\n",
       "      <th>max</th>\n",
       "      <td>1.000000e+07</td>\n",
       "      <td>11930.000000</td>\n",
       "      <td>8.000000</td>\n",
       "    </tr>\n",
       "  </tbody>\n",
       "</table>\n",
       "</div>"
      ],
      "text/plain": [
       "               cena  Powierzchnia w m2  Liczba pokoi\n",
       "count  4.938000e+03        4938.000000   4938.000000\n",
       "mean   4.198150e+05          76.422033      2.844674\n",
       "std    3.244901e+05         180.583310      1.247389\n",
       "min    0.000000e+00          15.000000      1.000000\n",
       "25%    2.824200e+05          45.000000      2.000000\n",
       "50%    3.417040e+05          54.000000      3.000000\n",
       "75%    4.500000e+05          72.000000      3.000000\n",
       "max    1.000000e+07       11930.000000      8.000000"
      ]
     },
     "execution_count": 238,
     "metadata": {},
     "output_type": "execute_result"
    }
   ],
   "source": [
    "flats.describe()"
   ]
  },
  {
   "cell_type": "markdown",
   "id": "6d24be40-6563-477c-94a1-2d96bb6d90fa",
   "metadata": {},
   "source": [
    "## **4. Preprocessing danych**"
   ]
  },
  {
   "cell_type": "markdown",
   "id": "e3e87b9a-6cf2-4fa6-ad0c-f87f9b0dbee7",
   "metadata": {},
   "source": [
    "### 4.1. Obróbka odpowiednich cech"
   ]
  },
  {
   "cell_type": "code",
   "execution_count": 239,
   "id": "12061890-d709-48f0-8437-eff3c015c7c4",
   "metadata": {},
   "outputs": [],
   "source": [
    "# zamiana \"parter\" na piętro 0\n",
    "flats['Piętro'] = flats['Piętro'].apply(lambda x: 0 if x == 'parter' else x)\n",
    "\n",
    "# usunięcie mieszkań, które są na poddaszu\n",
    "flats['Piętro'] = flats['Piętro'].apply(pd.to_numeric, errors='coerce') \n",
    "flats = flats.dropna()\n",
    "\n",
    "# Utowrzenie wartości bool'owskich (0 gdy nie ma jakiegokolwiek typu miejsca parkingowego)\n",
    "flats['Miejsce parkingowe'] = flats['Miejsce parkingowe'].apply(lambda x: 1 if x in flats['Miejsce parkingowe'].unique()[1:] else 0)\n",
    "\n",
    "# Utworzenie wartości kategorycznych\n",
    "flats = pd.get_dummies(flats, columns=['Typ zabudowy', 'Forma kuchni'])\n",
    "\n",
    "# Utworzenie wartości tekstowych\n",
    "flats['Czy przystanek?'] = flats['opis'].apply(lambda x: 1 if 'przystanek' in x.lower() else 0)\n",
    "del flats['opis']"
   ]
  },
  {
   "cell_type": "markdown",
   "id": "30d69694-812d-4658-9ccc-624e44290621",
   "metadata": {},
   "source": [
    "### 4.2. Odcięcie odstających cen"
   ]
  },
  {
   "cell_type": "code",
   "execution_count": 240,
   "id": "5aa08a1e-a4ab-47d7-9883-f512de9a977d",
   "metadata": {},
   "outputs": [],
   "source": [
    "# usunięcie mieszkań, których cena wynosi więcej niż 600 tys. zł\n",
    "flats = flats.drop(flats[flats['cena'] > 6*10**5].index)"
   ]
  },
  {
   "cell_type": "markdown",
   "id": "c4d82091-a672-4a22-8c09-20e80f663404",
   "metadata": {},
   "source": [
    "### 4.3 Normalizacja wartości numerycznych"
   ]
  },
  {
   "cell_type": "code",
   "execution_count": 241,
   "id": "437a34d5-e3a3-4d73-9b94-ea5fc09eda32",
   "metadata": {},
   "outputs": [],
   "source": [
    "scaler = MinMaxScaler()\n",
    "cols_to_norm = [c for c in flats.columns if c in ['cena', 'Powierzchnia w m2', 'Liczba pokoi', 'Piętro']]\n",
    "flats[cols_to_norm] = scaler.fit_transform(flats[cols_to_norm])"
   ]
  },
  {
   "cell_type": "markdown",
   "id": "fbbcef1b-75ee-4316-9aac-38a969d11e74",
   "metadata": {},
   "source": [
    "## **5. Wizualizacja cech na histogramach**"
   ]
  },
  {
   "cell_type": "code",
   "execution_count": 242,
   "id": "59f2ad52-485e-4973-93e5-5e0b598694ee",
   "metadata": {},
   "outputs": [
    {
     "data": {
      "text/plain": [
       "array([[<AxesSubplot:title={'center':'cena'}>,\n",
       "        <AxesSubplot:title={'center':'Powierzchnia w m2'}>,\n",
       "        <AxesSubplot:title={'center':'Liczba pokoi'}>,\n",
       "        <AxesSubplot:title={'center':'Miejsce parkingowe'}>],\n",
       "       [<AxesSubplot:title={'center':'Piętro'}>,\n",
       "        <AxesSubplot:title={'center':'Typ zabudowy_apartamentowiec'}>,\n",
       "        <AxesSubplot:title={'center':'Typ zabudowy_blok'}>,\n",
       "        <AxesSubplot:title={'center':'Typ zabudowy_dom wielorodzinny/szeregowiec'}>],\n",
       "       [<AxesSubplot:title={'center':'Typ zabudowy_kamienica'}>,\n",
       "        <AxesSubplot:title={'center':'Typ zabudowy_plomba'}>,\n",
       "        <AxesSubplot:title={'center':'Forma kuchni_odzielna'}>,\n",
       "        <AxesSubplot:title={'center':'Forma kuchni_prześwit'}>],\n",
       "       [<AxesSubplot:title={'center':'Forma kuchni_w aneksie'}>,\n",
       "        <AxesSubplot:title={'center':'Czy przystanek?'}>, <AxesSubplot:>,\n",
       "        <AxesSubplot:>]], dtype=object)"
      ]
     },
     "execution_count": 242,
     "metadata": {},
     "output_type": "execute_result"
    },
    {
     "data": {
      "image/png": "[encoded data removed]",
      "text/plain": [
       "<Figure size 1440x1440 with 16 Axes>"
      ]
     },
     "metadata": {
      "needs_background": "light"
     },
     "output_type": "display_data"
    }
   ],
   "source": [
    "flats.hist(figsize=(20,20), xrot=-45)"
   ]
  },
  {
   "cell_type": "markdown",
   "id": "24ae3dfa-91c2-46a6-8088-3f9b1ba629bc",
   "metadata": {},
   "source": [
    "## **6. Podział na zbiór testowy i treningowy**"
   ]
  },
  {
   "cell_type": "code",
   "execution_count": 243,
   "id": "d1a4d384-3aa9-429b-98d4-c01a29506988",
   "metadata": {},
   "outputs": [
    {
     "name": "stdout",
     "output_type": "stream",
     "text": [
      "X_train:  1028 \n",
      " X_test:  258\n"
     ]
    }
   ],
   "source": [
    "SIZE = 0.2\n",
    "SEED = 1300\n",
    "X, y = flats[[c for c in flats.columns if c != 'cena']], flats['cena']\n",
    "X_train, X_test, y_train, y_test = train_test_split(X, y, test_size = SIZE, random_state = SEED)\n",
    "print(\"X_train: \", len(X_train), '\\n', \"X_test: \", len(X_test))"
   ]
  },
  {
   "cell_type": "markdown",
   "id": "f81e3174-8466-4552-84cc-6df6b7f4817d",
   "metadata": {},
   "source": [
    "## **7. Trenowanie**"
   ]
  },
  {
   "cell_type": "markdown",
   "id": "6a2532e3-34bc-492d-8a2e-e74644d71bd0",
   "metadata": {},
   "source": [
    "### 7.1. Regresja liniowa"
   ]
  },
  {
   "cell_type": "code",
   "execution_count": 244,
   "id": "ad95ebdb-30cd-4d25-b704-376b89a7a3c4",
   "metadata": {},
   "outputs": [
    {
     "name": "stdout",
     "output_type": "stream",
     "text": [
      "MSE: 0.006900048705257726\n",
      "RMSE: 0.08306653179986345\n",
      "Score: 0.7170548639274577\n"
     ]
    }
   ],
   "source": [
    "reg = LinearRegression()\n",
    "model = reg.fit(X_train, y_train)\n",
    "score = model.score(X_test, y_test)\n",
    "prediction = model.predict(X_test)\n",
    "print(\"MSE:\", rmse(y_test, prediction))\n",
    "print(\"RMSE:\", rmse(y_test, prediction, squared=False))\n",
    "print(\"Score:\", score)"
   ]
  },
  {
   "cell_type": "markdown",
   "id": "e5d21540-b4ab-45f0-986d-305e44d8edda",
   "metadata": {},
   "source": [
    "### 7.2. Zrównoleglona optymalizacja stochastyczna (SGD)"
   ]
  },
  {
   "cell_type": "code",
   "execution_count": 311,
   "id": "6bdb5f9d-edb7-4b85-a0c9-00e228475dec",
   "metadata": {},
   "outputs": [
    {
     "name": "stdout",
     "output_type": "stream",
     "text": [
      "MSE: 0.00727747232386879\n",
      "RMSE: 0.08530810233423781\n",
      "Score: 0.7015781359090705\n"
     ]
    }
   ],
   "source": [
    "sgd = SGDRegressor(max_iter=1000, alpha=.00000000001, tol=.00000001)\n",
    "model = sgd.fit(X_train, y_train)\n",
    "score = model.score(X_test, y_test)\n",
    "prediction = model.predict(X_test)\n",
    "print(\"MSE:\", rmse(y_test, prediction))\n",
    "print(\"RMSE:\", rmse(y_test, prediction, squared=False))\n",
    "print(\"Score:\", score)"
   ]
  },
  {
   "cell_type": "markdown",
   "id": "e265de2a-5b62-4fb3-a349-188c3c32511a",
   "metadata": {},
   "source": [
    "### 7.3. Sieć neuronowa (Keras)"
   ]
  },
  {
   "cell_type": "code",
   "execution_count": 317,
   "id": "fb2c1a39-47a4-4e58-b3c2-03646046e459",
   "metadata": {},
   "outputs": [
    {
     "name": "stdout",
     "output_type": "stream",
     "text": [
      "Epoch 1/50\n",
      "52/52 [==============================] - 0s 3ms/step - loss: 0.5575 - mean_absolute_error: 0.5575 - val_loss: 0.4177 - val_mean_absolute_error: 0.4177\n",
      "Epoch 2/50\n",
      "52/52 [==============================] - 0s 2ms/step - loss: 0.2949 - mean_absolute_error: 0.2949 - val_loss: 0.1144 - val_mean_absolute_error: 0.1144\n",
      "Epoch 3/50\n",
      "52/52 [==============================] - 0s 2ms/step - loss: 0.1072 - mean_absolute_error: 0.1072 - val_loss: 0.1145 - val_mean_absolute_error: 0.1145\n",
      "Epoch 4/50\n",
      "52/52 [==============================] - 0s 2ms/step - loss: 0.1014 - mean_absolute_error: 0.1014 - val_loss: 0.1040 - val_mean_absolute_error: 0.1040\n",
      "Epoch 5/50\n",
      "52/52 [==============================] - 0s 2ms/step - loss: 0.0907 - mean_absolute_error: 0.0907 - val_loss: 0.0991 - val_mean_absolute_error: 0.0991\n",
      "Epoch 6/50\n",
      "52/52 [==============================] - 0s 2ms/step - loss: 0.0867 - mean_absolute_error: 0.0867 - val_loss: 0.0984 - val_mean_absolute_error: 0.0984\n",
      "Epoch 7/50\n",
      "52/52 [==============================] - 0s 4ms/step - loss: 0.0825 - mean_absolute_error: 0.0825 - val_loss: 0.0915 - val_mean_absolute_error: 0.0915\n",
      "Epoch 8/50\n",
      "52/52 [==============================] - 0s 4ms/step - loss: 0.0845 - mean_absolute_error: 0.0845 - val_loss: 0.0868 - val_mean_absolute_error: 0.0868\n",
      "Epoch 9/50\n",
      "52/52 [==============================] - 0s 2ms/step - loss: 0.0830 - mean_absolute_error: 0.0830 - val_loss: 0.0857 - val_mean_absolute_error: 0.0857\n",
      "Epoch 10/50\n",
      "52/52 [==============================] - 0s 2ms/step - loss: 0.0763 - mean_absolute_error: 0.0763 - val_loss: 0.0844 - val_mean_absolute_error: 0.0844\n",
      "Epoch 11/50\n",
      "52/52 [==============================] - 0s 1ms/step - loss: 0.0808 - mean_absolute_error: 0.0808 - val_loss: 0.0835 - val_mean_absolute_error: 0.0835\n",
      "Epoch 12/50\n",
      "52/52 [==============================] - 0s 2ms/step - loss: 0.0780 - mean_absolute_error: 0.0780 - val_loss: 0.0880 - val_mean_absolute_error: 0.0880\n",
      "Epoch 13/50\n",
      "52/52 [==============================] - 0s 2ms/step - loss: 0.0771 - mean_absolute_error: 0.0771 - val_loss: 0.0834 - val_mean_absolute_error: 0.0834\n",
      "Epoch 14/50\n",
      "52/52 [==============================] - 0s 2ms/step - loss: 0.0769 - mean_absolute_error: 0.0769 - val_loss: 0.0820 - val_mean_absolute_error: 0.0820\n",
      "Epoch 15/50\n",
      "52/52 [==============================] - 0s 4ms/step - loss: 0.0778 - mean_absolute_error: 0.0778 - val_loss: 0.0822 - val_mean_absolute_error: 0.0822\n",
      "Epoch 16/50\n",
      "52/52 [==============================] - 0s 3ms/step - loss: 0.0819 - mean_absolute_error: 0.0819 - val_loss: 0.0818 - val_mean_absolute_error: 0.0818\n",
      "Epoch 17/50\n",
      "52/52 [==============================] - 0s 2ms/step - loss: 0.0741 - mean_absolute_error: 0.0741 - val_loss: 0.0808 - val_mean_absolute_error: 0.0808\n",
      "Epoch 18/50\n",
      "52/52 [==============================] - 0s 2ms/step - loss: 0.0749 - mean_absolute_error: 0.0749 - val_loss: 0.0819 - val_mean_absolute_error: 0.0819\n",
      "Epoch 19/50\n",
      "52/52 [==============================] - 0s 2ms/step - loss: 0.0738 - mean_absolute_error: 0.0738 - val_loss: 0.0797 - val_mean_absolute_error: 0.0797\n",
      "Epoch 20/50\n",
      "52/52 [==============================] - 0s 2ms/step - loss: 0.0731 - mean_absolute_error: 0.0731 - val_loss: 0.0860 - val_mean_absolute_error: 0.0860\n",
      "Epoch 21/50\n",
      "52/52 [==============================] - 0s 2ms/step - loss: 0.0740 - mean_absolute_error: 0.0740 - val_loss: 0.0831 - val_mean_absolute_error: 0.0831\n",
      "Epoch 22/50\n",
      "52/52 [==============================] - 0s 2ms/step - loss: 0.0730 - mean_absolute_error: 0.0730 - val_loss: 0.0788 - val_mean_absolute_error: 0.0788\n",
      "Epoch 23/50\n",
      "52/52 [==============================] - 0s 2ms/step - loss: 0.0704 - mean_absolute_error: 0.0704 - val_loss: 0.0807 - val_mean_absolute_error: 0.0807\n",
      "Epoch 24/50\n",
      "52/52 [==============================] - 0s 2ms/step - loss: 0.0711 - mean_absolute_error: 0.0711 - val_loss: 0.0787 - val_mean_absolute_error: 0.0787\n",
      "Epoch 25/50\n",
      "52/52 [==============================] - 0s 2ms/step - loss: 0.0718 - mean_absolute_error: 0.0718 - val_loss: 0.0778 - val_mean_absolute_error: 0.0778\n",
      "Epoch 26/50\n",
      "52/52 [==============================] - 0s 4ms/step - loss: 0.0716 - mean_absolute_error: 0.0716 - val_loss: 0.0766 - val_mean_absolute_error: 0.0766\n",
      "Epoch 27/50\n",
      "52/52 [==============================] - 0s 2ms/step - loss: 0.0654 - mean_absolute_error: 0.0654 - val_loss: 0.0785 - val_mean_absolute_error: 0.0785\n",
      "Epoch 28/50\n",
      "52/52 [==============================] - 0s 2ms/step - loss: 0.0758 - mean_absolute_error: 0.0758 - val_loss: 0.0763 - val_mean_absolute_error: 0.0763\n",
      "Epoch 29/50\n",
      "52/52 [==============================] - 0s 2ms/step - loss: 0.0715 - mean_absolute_error: 0.0715 - val_loss: 0.0765 - val_mean_absolute_error: 0.0765\n",
      "Epoch 30/50\n",
      "52/52 [==============================] - 0s 2ms/step - loss: 0.0738 - mean_absolute_error: 0.0738 - val_loss: 0.0756 - val_mean_absolute_error: 0.0756\n",
      "Epoch 31/50\n",
      "52/52 [==============================] - 0s 2ms/step - loss: 0.0682 - mean_absolute_error: 0.0682 - val_loss: 0.0777 - val_mean_absolute_error: 0.0777\n",
      "Epoch 32/50\n",
      "52/52 [==============================] - 0s 4ms/step - loss: 0.0747 - mean_absolute_error: 0.0747 - val_loss: 0.0765 - val_mean_absolute_error: 0.0765\n",
      "Epoch 33/50\n",
      "52/52 [==============================] - 0s 2ms/step - loss: 0.0710 - mean_absolute_error: 0.0710 - val_loss: 0.0791 - val_mean_absolute_error: 0.0791\n",
      "Epoch 34/50\n",
      "52/52 [==============================] - 0s 2ms/step - loss: 0.0708 - mean_absolute_error: 0.0708 - val_loss: 0.0749 - val_mean_absolute_error: 0.0749\n",
      "Epoch 35/50\n",
      "52/52 [==============================] - 0s 2ms/step - loss: 0.0692 - mean_absolute_error: 0.0692 - val_loss: 0.0745 - val_mean_absolute_error: 0.0745\n",
      "Epoch 36/50\n",
      "52/52 [==============================] - 0s 2ms/step - loss: 0.0695 - mean_absolute_error: 0.0695 - val_loss: 0.0748 - val_mean_absolute_error: 0.0748\n",
      "Epoch 37/50\n",
      "52/52 [==============================] - 0s 2ms/step - loss: 0.0711 - mean_absolute_error: 0.0711 - val_loss: 0.0738 - val_mean_absolute_error: 0.0738\n",
      "Epoch 38/50\n",
      "52/52 [==============================] - 0s 2ms/step - loss: 0.0728 - mean_absolute_error: 0.0728 - val_loss: 0.0746 - val_mean_absolute_error: 0.0746\n",
      "Epoch 39/50\n",
      "52/52 [==============================] - 0s 2ms/step - loss: 0.0708 - mean_absolute_error: 0.0708 - val_loss: 0.0777 - val_mean_absolute_error: 0.0777\n",
      "Epoch 40/50\n",
      "52/52 [==============================] - 0s 4ms/step - loss: 0.0669 - mean_absolute_error: 0.0669 - val_loss: 0.0755 - val_mean_absolute_error: 0.0755\n",
      "Epoch 41/50\n",
      "52/52 [==============================] - 0s 4ms/step - loss: 0.0705 - mean_absolute_error: 0.0705 - val_loss: 0.0732 - val_mean_absolute_error: 0.0732\n",
      "Epoch 42/50\n",
      "52/52 [==============================] - 0s 2ms/step - loss: 0.0677 - mean_absolute_error: 0.0677 - val_loss: 0.0751 - val_mean_absolute_error: 0.0751\n",
      "Epoch 43/50\n",
      "52/52 [==============================] - 0s 2ms/step - loss: 0.0664 - mean_absolute_error: 0.0664 - val_loss: 0.0732 - val_mean_absolute_error: 0.0732\n",
      "Epoch 44/50\n",
      "52/52 [==============================] - 0s 2ms/step - loss: 0.0671 - mean_absolute_error: 0.0671 - val_loss: 0.0772 - val_mean_absolute_error: 0.0772\n",
      "Epoch 45/50\n",
      "52/52 [==============================] - 0s 2ms/step - loss: 0.0703 - mean_absolute_error: 0.0703 - val_loss: 0.0746 - val_mean_absolute_error: 0.0746\n",
      "Epoch 46/50\n",
      "52/52 [==============================] - 0s 1ms/step - loss: 0.0669 - mean_absolute_error: 0.0669 - val_loss: 0.0755 - val_mean_absolute_error: 0.0755\n",
      "Epoch 47/50\n",
      "52/52 [==============================] - 0s 3ms/step - loss: 0.0653 - mean_absolute_error: 0.0653 - val_loss: 0.0751 - val_mean_absolute_error: 0.0751\n",
      "Epoch 48/50\n",
      "52/52 [==============================] - 0s 4ms/step - loss: 0.0730 - mean_absolute_error: 0.0730 - val_loss: 0.0731 - val_mean_absolute_error: 0.0731\n",
      "Epoch 49/50\n",
      "52/52 [==============================] - 0s 2ms/step - loss: 0.0695 - mean_absolute_error: 0.0695 - val_loss: 0.0755 - val_mean_absolute_error: 0.0755\n",
      "Epoch 50/50\n",
      "52/52 [==============================] - 0s 2ms/step - loss: 0.0679 - mean_absolute_error: 0.0679 - val_loss: 0.0775 - val_mean_absolute_error: 0.0775\n",
      "MSE: 0.006337738546995088\n",
      "RMSE: 0.07960991487870772\n"
     ]
    }
   ],
   "source": [
    "EPOCHS = 50\n",
    "BATCH_SIZE = 16 # 16\n",
    "\n",
    "# Przygotowanie warstw\n",
    "model = keras.Sequential([\n",
    "        keras.layers.Dense(16,input_dim = X_train.shape[1],kernel_initializer='normal', activation='relu'),\n",
    "        keras.layers.Dense(16,kernel_initializer='normal', activation='relu'),\n",
    "        keras.layers.Dense(8,kernel_initializer='normal', activation='relu'),\n",
    "        keras.layers.Dense(1,kernel_initializer='normal', activation='linear'),\n",
    "    ])\n",
    "\n",
    "# konfiguracja modelu\n",
    "model.compile(loss='mean_absolute_error', optimizer='adam', metrics=['mean_absolute_error'])\n",
    "\n",
    "# trenowanie\n",
    "model.fit(X_train, y_train, epochs = EPOCHS, validation_split = 0.2, verbose = 1, batch_size = BATCH_SIZE)\n",
    "\n",
    "# predykcja\n",
    "prediction = model.predict(X_test)\n",
    "mse_result = rmse(y_test, prediction)\n",
    "rmse_result = rmse(y_test, prediction, squared=False)\n",
    "print(\"MSE:\", mse_result)\n",
    "print(\"RMSE:\", rmse_result)"
   ]
  },
  {
   "cell_type": "markdown",
   "id": "c82b086f-7ffd-4a16-979c-ca82f392a0dd",
   "metadata": {},
   "source": [
    "## **8. Podsumowanie wyników**"
   ]
  },
  {
   "cell_type": "markdown",
   "id": "5eb28568-5482-42a8-8dd9-da8685c0760b",
   "metadata": {},
   "source": [
    "|   | MSE | RMSE |\n",
    "|---|---|---|\n",
    "|Regresja liniowa|**0.0069**00048705257726|**0.0830**6653179986345|\n",
    "|SGD|**0.0072**7747232386879|**0.0853**0810233423781|\n",
    "|Sieć neuronowa (Keras)|**0.0063**37738546995088|**0.0796**0991487870772"
   ]
  },
  {
   "cell_type": "markdown",
   "id": "f70c6895-b1ab-4ada-b2d6-52b1573a6f05",
   "metadata": {},
   "source": [
    "#### Reasumując. Można zauważyć, że w tym przypadku najlepsze rezultaty z ewaluacji uzyskamy po zastosowaniu odpowiednio skonfigurowanej sieci neuronowej. \n",
    "#### Po zastosowaniu algorytmu SGD na rzecz zwykłej regresji liniowej, niestety nie udało się polepszyć wyników. Być może zastosowanie SGD dawałoby lepsze rezultaty (na pewno pod kątem złożoności) gdybyśmy działali na większym zbiorze danych."
   ]
  }
 ],
 "metadata": {
  "kernelspec": {
   "display_name": "Python 3",
   "language": "python",
   "name": "python3"
  },
  "language_info": {
   "codemirror_mode": {
    "name": "ipython",
    "version": 3
   },
   "file_extension": ".py",
   "mimetype": "text/x-python",
   "name": "python",
   "nbconvert_exporter": "python",
   "pygments_lexer": "ipython3",
   "version": "3.9.5"
  }
 },
 "nbformat": 4,
 "nbformat_minor": 5
}
