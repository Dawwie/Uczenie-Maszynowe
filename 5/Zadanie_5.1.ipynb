{
 "cells": [
  {
   "cell_type": "markdown",
   "id": "modular-consequence",
   "metadata": {},
   "source": [
    "# Ewaluacja"
   ]
  },
  {
   "cell_type": "markdown",
   "id": "partial-smoke",
   "metadata": {},
   "source": [
    "### 5.1. Ewaluacja regresji"
   ]
  },
  {
   "cell_type": "code",
   "execution_count": 42,
   "id": "level-assistant",
   "metadata": {},
   "outputs": [
    {
     "name": "stdout",
     "output_type": "stream",
     "text": [
      "Root Mean Squared Error: 13.071715200693914\n",
      "Score: 0.2225669744638359\n"
     ]
    }
   ],
   "source": [
    "import pandas as pd\n",
    "import numpy as np\n",
    "from sklearn.model_selection import train_test_split\n",
    "from sklearn.linear_model import LinearRegression\n",
    "from sklearn.metrics import mean_squared_error as rmse\n",
    "\n",
    "\n",
    "fires_thefts = pd.read_csv('fires_thefts.csv', header=None)\n",
    "\n",
    "X, y = fires_thefts[0], fires_thefts[1]\n",
    "X_normalized = (X - np.mean(X, axis=0)) / np.amax(X, axis=0)\n",
    "\n",
    "X_train, X_test, y_train, y_test = train_test_split(X_normalized, y, test_size=0.2, random_state=0)\n",
    "X_train, X_test = np.array(X_train).reshape(-1, 1), np.array(X_test).reshape(-1, 1)\n",
    "\n",
    "linear_reg_model = LinearRegression().fit(X_train, y_train)\n",
    "y_predicted = model.predict(x_test)\n",
    "\n",
    "print(f\"Root Mean Squared Error: {rmse(y_test, y_predicted, squared=False)}\")\n",
    "print(f\"Score: {linear_reg_model.score(x_test, y_test)}\")"
   ]
  }
 ],
 "metadata": {
  "kernelspec": {
   "display_name": "Python 3",
   "language": "python",
   "name": "python3"
  },
  "language_info": {
   "codemirror_mode": {
    "name": "ipython",
    "version": 3
   },
   "file_extension": ".py",
   "mimetype": "text/x-python",
   "name": "python",
   "nbconvert_exporter": "python",
   "pygments_lexer": "ipython3",
   "version": "3.9.2"
  }
 },
 "nbformat": 4,
 "nbformat_minor": 5
}
