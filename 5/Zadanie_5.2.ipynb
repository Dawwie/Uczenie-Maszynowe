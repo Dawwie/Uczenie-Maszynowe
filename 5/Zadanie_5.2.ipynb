{
 "cells": [
  {
   "cell_type": "markdown",
   "id": "english-finish",
   "metadata": {},
   "source": [
    "# Ewaluacja"
   ]
  },
  {
   "cell_type": "markdown",
   "id": "known-tongue",
   "metadata": {},
   "source": [
    "### 5.2. Ewaluacja klasyfikacji"
   ]
  },
  {
   "cell_type": "code",
   "execution_count": 32,
   "id": "foster-farming",
   "metadata": {},
   "outputs": [
    {
     "name": "stdout",
     "output_type": "stream",
     "text": [
      "              precision    recall  f1-score   support\n",
      "\n",
      "         0.0       0.77      0.99      0.87       310\n",
      "         1.0       0.50      0.04      0.08        93\n",
      "\n",
      "    accuracy                           0.77       403\n",
      "   macro avg       0.64      0.52      0.47       403\n",
      "weighted avg       0.71      0.77      0.69       403\n",
      "\n",
      "\n",
      "Precision: 0.7692307692307693\n",
      "Recall: 0.7692307692307693\n",
      "F-score: 0.7692307692307693\n"
     ]
    }
   ],
   "source": [
    "import pandas as pd\n",
    "from random import randint\n",
    "from sklearn.preprocessing import MinMaxScaler\n",
    "from sklearn.model_selection import train_test_split\n",
    "from sklearn.metrics import classification_report, precision_recall_fscore_support\n",
    "from sklearn.linear_model import LogisticRegression\n",
    "logreg = LogisticRegression()\n",
    "\n",
    "df = pd.read_csv(\"gratkapl-centrenrm.csv\")\n",
    "df = df.drop(['Id', 'Location', 'Description'], 1).dropna() # usunięcie niepotrzebnych kolumn i wartości null\n",
    "\n",
    "df = df.loc[(df[\"Price\"] < 29000000) & (df[\"SqrMeters\"] < 180)] # odcięcie odstających danych\n",
    "\n",
    "scaler = MinMaxScaler()\n",
    "df[df.columns] = scaler.fit_transform(df[df.columns]) # normalizacja wartości numerycznych\n",
    "\n",
    "X = df.loc[:, df.columns != 'Centre']\n",
    "y = df.loc[:, df.columns == 'Centre']\n",
    "X_train, X_test, y_train, y_test = train_test_split(X, y.values.ravel(), test_size=0.2, random_state=0)\n",
    "logreg.fit(X_train, y_train)\n",
    "\n",
    "y_pred =  logreg.predict(X_test)\n",
    "print(classification_report(y_test, y_pred))\n",
    "\n",
    "log_acc = sum(map(int, [y_pred[i].item() == y_test[i].item() for i, rest in enumerate(y_test)]))\n",
    "precision, recall, fscore, supp = precision_recall_fscore_support(y_test, y_pred, average=\"micro\")\n",
    "print(f\"\\nPrecision: {precision}\\nRecall: {recall}\\nF-score: {fscore}\")"
   ]
  }
 ],
 "metadata": {
  "kernelspec": {
   "display_name": "Python 3",
   "language": "python",
   "name": "python3"
  },
  "language_info": {
   "codemirror_mode": {
    "name": "ipython",
    "version": 3
   },
   "file_extension": ".py",
   "mimetype": "text/x-python",
   "name": "python",
   "nbconvert_exporter": "python",
   "pygments_lexer": "ipython3",
   "version": "3.9.2"
  }
 },
 "nbformat": 4,
 "nbformat_minor": 5
}
