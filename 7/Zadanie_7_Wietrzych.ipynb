{
 "cells": [
  {
   "cell_type": "markdown",
   "id": "chief-graduate",
   "metadata": {},
   "source": [
    "# 7. Reprezentacja danych"
   ]
  },
  {
   "cell_type": "code",
   "execution_count": 38,
   "id": "coastal-night",
   "metadata": {
    "tags": []
   },
   "outputs": [
    {
     "name": "stdout",
     "output_type": "stream",
     "text": [
      "Model bez poprawek\n",
      "RMSE: 226959.08748825188\n",
      "Score: 0.37802766803233157\n",
      "\n",
      "Model z poprawkami\n",
      "RMSE: 0.09398725984056977\n",
      "Score: 0.6614382923654856\n"
     ]
    }
   ],
   "source": [
    "import numpy as np\n",
    "import pandas as pd\n",
    "from sklearn.preprocessing import MinMaxScaler\n",
    "from pandas.api.types import is_numeric_dtype\n",
    "from sklearn.linear_model import LinearRegression\n",
    "from sklearn.model_selection import train_test_split\n",
    "from sklearn.metrics import mean_squared_error as rmse\n",
    "\n",
    "reg = LinearRegression()\n",
    "\n",
    "\n",
    "alldata = pd.read_csv(\n",
    "    'flats.tsv', header=0, sep='\\t', skipinitialspace=True,\n",
    "     usecols=['cena', 'Powierzchnia w m2', 'Liczba pokoi', 'Piętro' ,'Typ zabudowy', 'opis', 'Forma kuchni', \"Miejsce parkingowe\"])\n",
    "\n",
    "# MODEL BEZ POPRAWEK\n",
    "\n",
    "X = alldata[[c for c in alldata.columns if c not in ['opis', 'cena', 'Miejsce parkingowe', 'Forma kuchni', 'Typ zabudowy', 'Piętro']]]\n",
    "y = alldata['cena']\n",
    "\n",
    "X_train, X_test, y_train, y_test = train_test_split(X, y, test_size = 0.2, random_state = 6)\n",
    "lin_reg = reg.fit(X_train, y_train)\n",
    "score = lin_reg.score(X_test, y_test)\n",
    "prediction = lin_reg.predict(X_test)\n",
    "print(\"Model bez poprawek\")\n",
    "print(\"RMSE:\", rmse(y_test, prediction, squared=False))\n",
    "print(\"Score:\", score)\n",
    "print()\n",
    "\n",
    "# MODEL PORPAWIONY \n",
    "\n",
    "# zamiana \"parter\" na piętro 0\n",
    "alldata['Piętro'] = alldata['Piętro'].apply(lambda x: 0 if x == 'parter' else x)\n",
    "# usunięcie mieszkań, które są na poddaszu\n",
    "alldata['Piętro'] = alldata['Piętro'].apply(pd.to_numeric, errors='coerce') \n",
    "alldata = alldata.dropna()\n",
    "# Utowrzenie wartości bool'owskich (False gdy nie ma jakiegokolwiek typu miejsca parkingowego)\n",
    "alldata['Miejsce parkingowe'] = alldata['Miejsce parkingowe'].apply(lambda x: True if x in alldata['Miejsce parkingowe'].unique()[1:] else False)\n",
    "# Utworzenie wartości kategorycznych\n",
    "alldata = pd.get_dummies(alldata, columns=['Typ zabudowy', 'Forma kuchni'])\n",
    "# Utowrzenie wartości tekstowych\n",
    "alldata['Czy przystanek?'] = alldata['opis'].apply(lambda x: True if 'przystanek' in x.lower() else False)\n",
    "\n",
    "# usunięcie mieszkań, których cena wynosi więcej niż 600 tys. zł\n",
    "alldata = alldata.drop(alldata[alldata['cena'] > 6*10**5].index)\n",
    "\n",
    "# normalizacja wartości numerycznych\n",
    "scaler = MinMaxScaler()\n",
    "cols_to_norm = [c for c in alldata.columns if c in ['cena', 'Powierzchnia w m2', 'Liczba pokoi', 'Piętro']]\n",
    "alldata[cols_to_norm] = scaler.fit_transform(alldata[cols_to_norm])\n",
    "\n",
    "# podział na zbiór treningowy i testowy\n",
    "X = alldata[[c for c in alldata.columns if c not in ['opis', 'cena']]]\n",
    "y = alldata['cena']\n",
    "\n",
    "X_train, X_test, y_train, y_test = train_test_split(X, y, test_size = 0.2, random_state = 6)\n",
    "lin_reg = reg.fit(X_train, y_train)\n",
    "score = lin_reg.score(X_test, y_test)\n",
    "prediction = lin_reg.predict(X_test)\n",
    "print(\"Model z poprawkami\")\n",
    "print(\"RMSE:\", rmse(y_test, prediction, squared=False))\n",
    "print(\"Score:\", score)"
   ]
  }
 ],
 "metadata": {
  "kernelspec": {
   "display_name": "Python 3",
   "language": "python",
   "name": "python3"
  },
  "language_info": {
   "codemirror_mode": {
    "name": "ipython",
    "version": 3
   },
   "file_extension": ".py",
   "mimetype": "text/x-python",
   "name": "python",
   "nbconvert_exporter": "python",
   "pygments_lexer": "ipython3",
   "version": "3.9.2"
  }
 },
 "nbformat": 4,
 "nbformat_minor": 5
}
