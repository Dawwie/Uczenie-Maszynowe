{
 "cells": [
  {
   "cell_type": "markdown",
   "id": "floating-steel",
   "metadata": {},
   "source": [
    "# 8. SGD"
   ]
  },
  {
   "cell_type": "code",
   "execution_count": 19,
   "id": "static-appointment",
   "metadata": {},
   "outputs": [],
   "source": [
    "def batch_iterate(x, y, batch_size):\n",
    "    \"\"\"Iterator dzielący dane na mini-batche\"\"\"\n",
    "    assert len(x) == len(y)\n",
    "    dataset_size = len(x)\n",
    "    current_index = 0\n",
    "    while current_index < dataset_size:\n",
    "        x_batch = x[current_index : current_index + batch_size]\n",
    "        y_batch = y[current_index : current_index + batch_size]\n",
    "        yield x_batch, y_batch\n",
    "        current_index += batch_size"
   ]
  },
  {
   "cell_type": "code",
   "execution_count": 102,
   "id": "worse-logan",
   "metadata": {},
   "outputs": [
    {
     "name": "stdout",
     "output_type": "stream",
     "text": [
      "RSME: 0.0\n",
      "F-score: 1.0\n"
     ]
    }
   ],
   "source": [
    "import numpy as np\n",
    "import pandas as pd\n",
    "from sklearn.linear_model import SGDClassifier\n",
    "from sklearn.metrics import f1_score, mean_squared_error\n",
    "from sklearn.model_selection import train_test_split\n",
    "from sklearn.preprocessing import MinMaxScaler\n",
    "\n",
    "scaler = MinMaxScaler()\n",
    "model = SGDClassifier()\n",
    "\n",
    "df = pd.read_csv(\"mushrooms.tsv\", sep=\"\\t\", header=None).dropna()\n",
    "df = df[df[12] != \"?\"] # Drop rows with weird char \"?\"\n",
    "df[0] = df[0].apply(lambda x: 0 if x == \"e\" else 1) # change string values to numeric\n",
    "\n",
    "# Get dummies values instead of chars\n",
    "df_dummies = pd.get_dummies(df, columns=df.columns[1:])\n",
    "X, y = df_dummies[1:], df_dummies[0][1:]\n",
    "\n",
    "# Train and test sets\n",
    "X_train, X_test, y_train, y_test = train_test_split(X, y, test_size=0.2)\n",
    "y_train = y_train.to_numpy().ravel()\n",
    "y_exp = y_test.to_numpy().ravel()\n",
    "X_train_scaled = scaler.fit_transform(X_train)\n",
    "\n",
    "# Mini-batch SGD\n",
    "batch_iterator = batch_iterate(X_train_scaled, y_train, batch_size=100)\n",
    "for x_batch, y_batch in batch_iterator:\n",
    "    model.partial_fit(x_batch, y_batch, classes=np.unique(y_batch)) \n",
    "\n",
    "y_pred = model.predict(X_test)\n",
    " \n",
    "# Calculate root mean square error and F-score\n",
    "error = mean_squared_error(y_exp, y_pred, squared=False)\n",
    "score = f1_score(y_exp, y_pred)\n",
    "print(f\"RSME: {error}\")\n",
    "print(f\"F-score: {score}\")"
   ]
  }
 ],
 "metadata": {
  "kernelspec": {
   "display_name": "Python 3",
   "language": "python",
   "name": "python3"
  },
  "language_info": {
   "codemirror_mode": {
    "name": "ipython",
    "version": 3
   },
   "file_extension": ".py",
   "mimetype": "text/x-python",
   "name": "python",
   "nbconvert_exporter": "python",
   "pygments_lexer": "ipython3",
   "version": "3.9.4"
  }
 },
 "nbformat": 4,
 "nbformat_minor": 5
}
